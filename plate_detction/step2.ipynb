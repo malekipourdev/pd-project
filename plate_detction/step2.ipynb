{
 "cells": [
  {
   "cell_type": "code",
   "execution_count": null,
   "id": "3bad75eb-8a9a-4a83-a120-2de7ea8b44af",
   "metadata": {},
   "outputs": [
    {
     "name": "stdout",
     "output_type": "stream",
     "text": [
      "done!\n"
     ]
    }
   ],
   "source": [
    "import os\n",
    "import cv2\n",
    "\n",
    "image_folder = \"car_plate\"\n",
    "label_folder = \"car_plate_yolo_labels\"\n",
    "\n",
    "for file_name in os.listdir(label_folder):\n",
    "    if file_name.endswith(\".txt\"):\n",
    "        txt_path = os.path.join(label_folder, file_name)\n",
    "        img_path = os.path.join(image_folder, file_name.replace(\".txt\", \".jpg\"))  # فرض بر اینکه فرمت JPG است\n",
    "        \n",
    "        if not os.path.exists(img_path):\n",
    "            print(f\"{file_name}\")\n",
    "            continue\n",
    "\n",
    "        img = cv2.imread(img_path)\n",
    "        img_height, img_width = img.shape[:2]\n",
    "\n",
    "        with open(txt_path, \"r\") as f:\n",
    "            lines = f.readlines()\n",
    "\n",
    "        new_lines = []\n",
    "        for line in lines:\n",
    "            parts = line.strip().split()\n",
    "            if len(parts) == 5:\n",
    "                class_id = parts[0]\n",
    "                x_center = float(parts[1]) / img_width\n",
    "                y_center = float(parts[2]) / img_height\n",
    "                width = float(parts[3]) / img_width\n",
    "                height = float(parts[4]) / img_height\n",
    "\n",
    "                new_lines.append(f\"{class_id} {x_center:.6f} {y_center:.6f} {width:.6f} {height:.6f}\\n\")\n",
    "\n",
    "        with open(txt_path, \"w\") as f:\n",
    "            f.writelines(new_lines)\n",
    "\n",
    "print(\"done!\")\n"
   ]
  }
 ],
 "metadata": {
  "kernelspec": {
   "display_name": "Python 3 (ipykernel)",
   "language": "python",
   "name": "python3"
  },
  "language_info": {
   "codemirror_mode": {
    "name": "ipython",
    "version": 3
   },
   "file_extension": ".py",
   "mimetype": "text/x-python",
   "name": "python",
   "nbconvert_exporter": "python",
   "pygments_lexer": "ipython3",
   "version": "3.11.7"
  }
 },
 "nbformat": 4,
 "nbformat_minor": 5
}
