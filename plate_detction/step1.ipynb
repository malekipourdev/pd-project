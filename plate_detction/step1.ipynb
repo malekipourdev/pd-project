{
 "cells": [
  {
   "cell_type": "code",
   "execution_count": null,
   "id": "c759eef7-5ee6-4e99-9fd6-d538a03e162c",
   "metadata": {
    "tags": []
   },
   "outputs": [],
   "source": [
    "import os\n",
    "import xml.etree.ElementTree as ET\n",
    "\n",
    "input_folder = \"car_plate\"\n",
    "output_folder = \"car_plate\"\n",
    "class_id = 0  \n",
    "\n",
    "os.makedirs(output_folder, exist_ok=True)\n",
    "\n",
    "for file_name in os.listdir(input_folder):\n",
    "    if file_name.endswith(\".xml\"):\n",
    "        file_path = os.path.join(input_folder, file_name)\n",
    "        \n",
    "        tree = ET.parse(file_path)\n",
    "        root = tree.getroot()\n",
    "\n",
    "        for obj in root.findall(\"object\"):\n",
    "            name = obj.find(\"name\").text\n",
    "            if name == \"کل ناحیه پلاک\":\n",
    "                bbox = obj.find(\"bndbox\")\n",
    "                x_min = int(bbox.find(\"xmin\").text)\n",
    "                y_min = int(bbox.find(\"ymin\").text)\n",
    "                x_max = int(bbox.find(\"xmax\").text)\n",
    "                y_max = int(bbox.find(\"ymax\").text)\n",
    "\n",
    "                x_center = (x_min + x_max) / 2\n",
    "                y_center = (y_min + y_max) / 2\n",
    "                width = x_max - x_min\n",
    "                height = y_max - y_min\n",
    "\n",
    "                output_file = os.path.join(output_folder, file_name.replace(\".xml\", \".txt\"))\n",
    "                with open(output_file, \"w\") as f:\n",
    "                    f.write(f\"{class_id} {x_center} {y_center} {width} {height}\\n\")\n",
    "\n",
    "print(\"done\")\n"
   ]
  }
 ],
 "metadata": {
  "kernelspec": {
   "display_name": "Python 3 (ipykernel)",
   "language": "python",
   "name": "python3"
  },
  "language_info": {
   "codemirror_mode": {
    "name": "ipython",
    "version": 3
   },
   "file_extension": ".py",
   "mimetype": "text/x-python",
   "name": "python",
   "nbconvert_exporter": "python",
   "pygments_lexer": "ipython3",
   "version": "3.11.7"
  }
 },
 "nbformat": 4,
 "nbformat_minor": 5
}
