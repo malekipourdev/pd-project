{
 "cells": [
  {
   "cell_type": "code",
   "execution_count": 1,
   "id": "d99301ed-8de8-4703-996b-72170c09d722",
   "metadata": {
    "tags": []
   },
   "outputs": [
    {
     "name": "stdout",
     "output_type": "stream",
     "text": [
      "done\n"
     ]
    }
   ],
   "source": [
    "import os\n",
    "import shutil\n",
    "import random\n",
    "\n",
    "image_dir = \"images\"   \n",
    "label_dir = \"labels\"   \n",
    "dataset_dir = \"dataset\" \n",
    "\n",
    "for split in [\"train\", \"val\", \"test\"]:\n",
    "    os.makedirs(os.path.join(dataset_dir, \"images\", split), exist_ok=True)\n",
    "    os.makedirs(os.path.join(dataset_dir, \"labels\", split), exist_ok=True)\n",
    "\n",
    "image_files = [f for f in os.listdir(image_dir) if f.endswith(\".jpg\")]\n",
    "\n",
    "random.shuffle(image_files)\n",
    "\n",
    "train_ratio = 0.8\n",
    "val_ratio = 0.1\n",
    "test_ratio = 0.1\n",
    "\n",
    "total_images = len(image_files)\n",
    "train_count = int(total_images * train_ratio)\n",
    "val_count = int(total_images * val_ratio)\n",
    "\n",
    "train_files = image_files[:train_count]\n",
    "val_files = image_files[train_count:train_count + val_count]\n",
    "test_files = image_files[train_count + val_count:]\n",
    "\n",
    "def move_files(file_list, split):\n",
    "    for file in file_list:\n",
    "        img_path = os.path.join(image_dir, file)\n",
    "        lbl_path = os.path.join(label_dir, file.replace(\".jpg\", \".txt\"))\n",
    "\n",
    "        shutil.move(img_path, os.path.join(dataset_dir, \"images\", split, file))\n",
    "\n",
    "        if os.path.exists(lbl_path):\n",
    "            shutil.move(lbl_path, os.path.join(dataset_dir, \"labels\", split, file.replace(\".jpg\", \".txt\")))\n",
    "\n",
    "move_files(train_files, \"train\")\n",
    "move_files(val_files, \"val\")\n",
    "move_files(test_files, \"test\")\n",
    "\n",
    "print(\"done\")\n"
   ]
  }
 ],
 "metadata": {
  "kernelspec": {
   "display_name": "Python 3 (ipykernel)",
   "language": "python",
   "name": "python3"
  },
  "language_info": {
   "codemirror_mode": {
    "name": "ipython",
    "version": 3
   },
   "file_extension": ".py",
   "mimetype": "text/x-python",
   "name": "python",
   "nbconvert_exporter": "python",
   "pygments_lexer": "ipython3",
   "version": "3.11.7"
  }
 },
 "nbformat": 4,
 "nbformat_minor": 5
}
