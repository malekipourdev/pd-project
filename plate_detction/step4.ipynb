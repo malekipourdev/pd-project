{
 "cells": [
  {
   "cell_type": "code",
   "execution_count": 1,
   "id": "3cc600b9-9f2a-49bd-8707-ef322627903d",
   "metadata": {
    "tags": []
   },
   "outputs": [
    {
     "name": "stdout",
     "output_type": "stream",
     "text": [
      "انتقال تصاویر انجام شد!\n"
     ]
    }
   ],
   "source": [
    "import os\n",
    "import shutil\n",
    "\n",
    "# مسیر فولدر مبدأ (جایی که فایل‌ها هستند)\n",
    "source_folder = \"car_plate\"\n",
    "\n",
    "# مسیر فولدر مقصد (جایی که فقط تصاویر ذخیره شوند)\n",
    "destination_folder = \"images\"\n",
    "\n",
    "# اگر فولدر مقصد وجود نداشته باشد، آن را ایجاد کن\n",
    "os.makedirs(destination_folder, exist_ok=True)\n",
    "\n",
    "# پیمایش فایل‌های موجود در فولدر مبدأ\n",
    "for file_name in os.listdir(source_folder):\n",
    "    if file_name.lower().endswith(\".jpg\"):  # فقط فایل‌های jpg\n",
    "        source_path = os.path.join(source_folder, file_name)\n",
    "        destination_path = os.path.join(destination_folder, file_name)\n",
    "\n",
    "        shutil.copy2(source_path, destination_path)  # کپی کردن فایل\n",
    "\n",
    "print(\"انتقال تصاویر انجام شد!\")\n"
   ]
  }
 ],
 "metadata": {
  "kernelspec": {
   "display_name": "Python 3 (ipykernel)",
   "language": "python",
   "name": "python3"
  },
  "language_info": {
   "codemirror_mode": {
    "name": "ipython",
    "version": 3
   },
   "file_extension": ".py",
   "mimetype": "text/x-python",
   "name": "python",
   "nbconvert_exporter": "python",
   "pygments_lexer": "ipython3",
   "version": "3.11.7"
  }
 },
 "nbformat": 4,
 "nbformat_minor": 5
}
