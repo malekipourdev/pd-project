{
 "cells": [
  {
   "cell_type": "code",
   "execution_count": 1,
   "id": "d324ad4d-61ad-4b68-abec-0de01fc75480",
   "metadata": {
    "tags": []
   },
   "outputs": [
    {
     "name": "stdout",
     "output_type": "stream",
     "text": [
      "✅: dataset/data.yaml\n"
     ]
    }
   ],
   "source": [
    "import os\n",
    "import yaml\n",
    "\n",
    "dataset_dir = \"dataset\"\n",
    "\n",
    "data_config = {\n",
    "    \"train\": os.path.join(dataset_dir, \"images\", \"train\"), \n",
    "    \"val\": os.path.join(dataset_dir, \"images\", \"val\"),      \n",
    "    \"test\": os.path.join(dataset_dir, \"images\", \"test\"),    \n",
    "    \"nc\": 1,  # تعداد کلاس‌ها (یک کلاس)\n",
    "    \"names\": [\"license_plate\"], \n",
    "}\n",
    "\n",
    "yaml_path = os.path.join(dataset_dir, \"data.yaml\")\n",
    "with open(yaml_path, \"w\") as yaml_file:\n",
    "    yaml.dump(data_config, yaml_file, default_flow_style=False, allow_unicode=True)\n",
    "\n",
    "print(\"✅:\", yaml_path)\n"
   ]
  }
 ],
 "metadata": {
  "kernelspec": {
   "display_name": "Python 3 (ipykernel)",
   "language": "python",
   "name": "python3"
  },
  "language_info": {
   "codemirror_mode": {
    "name": "ipython",
    "version": 3
   },
   "file_extension": ".py",
   "mimetype": "text/x-python",
   "name": "python",
   "nbconvert_exporter": "python",
   "pygments_lexer": "ipython3",
   "version": "3.11.7"
  }
 },
 "nbformat": 4,
 "nbformat_minor": 5
}
